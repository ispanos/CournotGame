{
 "metadata": {
  "language_info": {
   "codemirror_mode": {
    "name": "ipython",
    "version": 3
   },
   "file_extension": ".py",
   "mimetype": "text/x-python",
   "name": "python",
   "nbconvert_exporter": "python",
   "pygments_lexer": "ipython3",
   "version": 3
  },
  "orig_nbformat": 2
 },
 "nbformat": 4,
 "nbformat_minor": 2,
 "cells": [
  {
   "source": [
    "# Data interpretation \n",
    "&nbsp;&nbsp;&nbsp;&nbsp; To calculate the units that each company produces, based on their total costs\n",
    "and total units produced in the market, we can solve the following equation for q.\n",
    "\n",
    "$$\n",
    "\\begin{bmatrix}\n",
    "1 & \\frac{1}{2} & \\frac{1}{2}\\\\\n",
    "\\frac{1}{2} & 1 & \\frac{1}{2}\\\\\n",
    "\\frac{1}{2} & \\frac{1}{2} & 1\n",
    "\\end{bmatrix}*\n",
    "\\begin{bmatrix}\n",
    "q_{1}\\\\ q_{2}\\\\ q_{3}\n",
    "\\end{bmatrix}=\n",
    "\\begin{bmatrix}\n",
    "\\frac{a\\ -\\ MC_{1}}{2*B}\\\\\n",
    "\\frac{a\\ -\\ MC_{2}}{2*B}\\\\\n",
    "\\frac{a\\ -\\ MC_{3}}{2*B}\\\\\n",
    "\\end{bmatrix}\n",
    "$$\n",
    "\n",
    "&nbsp;&nbsp;&nbsp;&nbsp; However, based on our generated data, we assume that 'Q' column can be interpreted\n",
    "both as the total units of production, when we try to calculate the demand\n",
    "curve, as well as the production of each company individually, when trying to\n",
    "calculate their marginal cost curves.\n",
    "\n",
    "&nbsp;&nbsp;&nbsp;&nbsp; With that assumption, we can calculate the marginal costs for each stage of\n",
    "production by calculating the first differences of the total cost array, dividing\n",
    "it by the first differences of the production array. Then, we run a simple OLS\n",
    "regression for the company's production (independent variable) and their marginal\n",
    "cost (dependent variable).\n",
    "\n",
    "&nbsp;&nbsp;&nbsp;&nbsp; The only purpose that this assumption serves, is compatibility with our original\n",
    "data source - the example spreadsheet.\n",
    "\n",
    "### Data problem\n",
    "\n",
    "&nbsp;&nbsp;&nbsp;&nbsp; The issue that arises from our data, however, is that we have panel data with the\n",
    "equilibrium combinations of prices and units of production. Thus, the variations\n",
    "over time are due to changes to the production costs of the companies, or lateral\n",
    "and vertical moves of the demand."
   ],
   "cell_type": "markdown",
   "metadata": {}
  }
 ]
}