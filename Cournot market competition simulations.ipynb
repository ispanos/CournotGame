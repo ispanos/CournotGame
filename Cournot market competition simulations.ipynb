{
 "nbformat": 4,
 "nbformat_minor": 0,
 "metadata": {
  "colab": {
   "name": "cournotforN.ipynb",
   "provenance": [],
   "collapsed_sections": []
  },
  "kernelspec": {
   "name": "python386jvsc74a57bd031f2aee4e71d21fbe5cf8b01ff0e069b9275f58929596ceb00d14d90e3e16cd6",
   "display_name": "Python 3.8.6 64-bit"
  },
  "language_info": {
   "name": "python",
   "version": "3.8.6-final"
  },
  "metadata": {
   "interpreter": {
    "hash": "31f2aee4e71d21fbe5cf8b01ff0e069b9275f58929596ceb00d14d90e3e16cd6"
   }
  }
 },
 "cells": [
  {
   "source": [
    "# Cournot market competition simulations\n",
    "\n",
    "## Spanos Ioannis\n",
    "\n",
    "This presentation is a Jupiter Notebook, so that we can interactively run python code.\n",
    "It is accompanied by a script writen in python, linked bellow.\n",
    "\n",
    "https://github.com/ispanos/CournotGame\n",
    "\n",
    "This file also serves as documentation for the aforementioned script and is published under the MIT licence.\n",
    "\n",
    "Copyright 2021 Spanos Ioannis, github.com/ispanos\n",
    "\n",
    "Permission is hereby granted, free of charge, to any person obtaining a copy of this\n",
    "software and associated documentation files (the \"Software\"), to deal in the Software\n",
    "without restriction, including without limitation the rights to use, copy, modify, merge,\n",
    "publish, distribute, sublicense, and/or sell copies of the Software, and to permit persons\n",
    "to whom the Software is furnished to do so, subject to the following conditions:\n",
    "\n",
    "The above copyright notice and this permission notice shall be included in all copies\n",
    "or substantial portions of the Software.\n",
    "\n",
    "THE SOFTWARE IS PROVIDED \"AS IS\", WITHOUT WARRANTY OF ANY KIND, EXPRESS OR IMPLIED,\n",
    "INCLUDING BUT NOT LIMITED TO THE WARRANTIES OF MERCHANTABILITY, FITNESS FOR A PARTICULAR\n",
    "PURPOSE AND NONINFRINGEMENT. IN NO EVENT SHALL THE AUTHORS OR COPYRIGHT HOLDERS BE LIABLE\n",
    "FOR ANY CLAIM, DAMAGES OR OTHER LIABILITY, WHETHER IN AN ACTION OF CONTRACT, TORT OR OTHERWISE,\n",
    "ARISING FROM, OUT OF OR IN CONNECTION WITH THE SOFTWARE OR THE USE OR OTHER DEALINGS IN THE SOFTWARE."
   ],
   "cell_type": "markdown",
   "metadata": {}
  },
  {
   "source": [
    "# Defining our market\n",
    "\n",
    "We assume the linear Inverse Demand Curve,\n",
    "$$\n",
    "P = A - B*Q\n",
    "$$\n",
    "where P is the Price and Q is the total demand.\n",
    "\n",
    "We also assume that the first derivatives of the Cost Curves of our companies are:\n",
    "\n",
    "$$\n",
    "MC_{i} = K_{i} + M_{i}q_{i}\n",
    "$$\n",
    "where **i** is the number of the company. In our case, in the beginning there are 3 companies."
   ],
   "cell_type": "markdown",
   "metadata": {}
  },
  {
   "source": [
    "# Calculating production levels\n",
    "\n",
    "## Best Responses\n",
    "\n",
    "Since the companies are in a **Cournot market game**, each one of them is going to\n",
    "maximize its profits, by adjusting its production, according to the demand and its\n",
    "competitor's production.\n",
    "\n",
    "$$max\\Pi_{i}(q_{i}) => MR_{i} = MC_{i}\\ (1)$$\n",
    "$$...$$\n",
    "$$for\\ i =1,\\ (1)\\ =>\\ (M_{1} + 2*B)*q_{1} + B*q_{2} + B*q_{3} = A - K_{1}$$\n",
    "$$for\\ i =2,\\ (1)\\ =>\\ B*q_{1} + (M_{2} + 2*B)*q_{2} + B*q_{3} = A - K_{2}$$\n",
    "$$for\\ i =3,\\ (1)\\ =>\\ B*q_{1} + B*q_{2} + (M_{3} + 2*B)*q_{3} = A - K_{3}$$\n",
    "$$Or$$\n",
    "$$\n",
    "\\begin{bmatrix}\n",
    "(M_{1} + 2*B) & B & B \\\\\n",
    "B & (M_{2} + 2*B) & B \\\\\n",
    "B & B & (M_{3} + 2*B)\n",
    "\\end{bmatrix}*\n",
    "\\begin{bmatrix}\n",
    "q_{1} \\\\ q_{2} \\\\ q_{3}\n",
    "\\end{bmatrix}=\n",
    "\\begin{bmatrix}\n",
    "A - K_{1} \\\\ A - K_{2} \\\\ A - K_{3}\n",
    "\\end{bmatrix}\n",
    "$$"
   ],
   "cell_type": "markdown",
   "metadata": {}
  },
  {
   "source": [
    "# Merger\n",
    "\n",
    "## Marginal Cost\n",
    "\n",
    "After companies i and j merge, we add the two marginal cost curves horizontally:\n",
    "\n",
    "$$\n",
    "q_{m} = q_{i(MC_{i})} + q_{j(MC_{j})},\n",
    "$$\n",
    "\n",
    "where $q_{m(MC_{m})}$ is the inverse marginal cost curve of the new company, named m.\n",
    "\n",
    "The new company, has now the following marginal cost:\n",
    "\n",
    "$$\n",
    "MC_{m} =\n",
    "\\frac{M_{j}*K_{i} + M_{i}*K_{j}} {M_{i} + M_{j}} +\n",
    "\\frac{M_{i}*M_{j}}{M_{i}+M_{j}}*q_{m}\n",
    "$$\n",
    "$$Or$$\n",
    "$$\n",
    "MC_{m} = K_{m} + M_{m}*q_{m}\n",
    "$$\n",
    "\n",
    "## Best Responses\n",
    "\n",
    "The new company, and the one that wasn't included in the merger, compete again on the amount of output they will produce.\n",
    "\n",
    "\n",
    "$$max\\Pi_{i}(q_{i}) => MR_{i} = MC_{i}\\ (1)$$\n",
    "$$...$$\n",
    "$$for\\ i =1,\\ (1)\\ =>\\ (M_{m} + 2*B)*q_{m} + B*q_{2} = A - K_{m}$$\n",
    "$$for\\ i =1,\\ (1)\\ =>\\ B*q_{1} + (M_{2} + 2*B)*q_{2} = A - K_{2}$$\n",
    "$$Or$$\n",
    "$$\n",
    "\\begin{bmatrix}\n",
    "(M_{m} + 2*B) & B \\\\\n",
    "B & (M_{2} + 2*B) \\\\\n",
    "\\end{bmatrix}*\n",
    "\\begin{bmatrix}\n",
    "q_{m}\\\\ q_{2}\n",
    "\\end{bmatrix}=\n",
    "\\begin{bmatrix}\n",
    "A - K_{m}\\\\ A - K_{2}\n",
    "\\end{bmatrix}\n",
    "$$\n",
    "\n",
    "## Edge Cases\n",
    "\n",
    "&nbsp;&nbsp;&nbsp;&nbsp; To reduce the complexity of the python function, that calculates the\n",
    "marginal cost curve of the new company, I'm working under the assumption that the demand is relatively high. The script does not work in cases where the demand is so low that the company is better off using only one of the two facilities at its disposal.\n",
    "\n",
    "&nbsp;&nbsp;&nbsp;&nbsp; Furthermore, if one of the companies has a constant marginal cost,\n",
    "and the other one has a linear marginal cost, the script terminates. In cases like that, its likely that the new company manufactures only in the facilities with the constant marginal cost. Still, a very high constant marginal cost could be suboptimal, compared to a low, yet variable marginal cost.\n",
    "\n",
    "&nbsp;&nbsp;&nbsp;&nbsp; These checks can't be done in the `merge_companies()` function without increasing the complexity of the `Company` object. Then, for every 2 companies that have merged, with that specific combination of marginal costs, our calculations would have to increase exponentially.\n",
    " \n",
    "&nbsp;&nbsp;&nbsp;&nbsp; To manually find if the company is going to produce in both facilities or not,\n",
    "calculate $q_{m}$, solve for $MC_{m}$ and run the function\n",
    "`set_cournot_production(demand, companies)` for all 3 possible $MC_{m}$ curves.\n",
    "Out of the three possible outcomes, select the marginal cost curve that maximizes the profits of company m. \n"
   ],
   "cell_type": "markdown",
   "metadata": {}
  },
  {
   "source": [
    "# Cournot market game for N companies\n",
    "\n",
    "We observe that the matrix that solves for the production units of each company,\n",
    "follows a clear pattern.\n",
    "\n",
    "On the left side, the diagonal, is\n",
    "\n",
    "$$\n",
    "(MC_{i} + 2 *B),\\ where\\ i = 1, 2, 3 ... N,\\ for\\ N\\ companies\n",
    "$$\n",
    "\n",
    "On the right side,\n",
    "$$\n",
    "(A - K_{i}),\\ where\\ i = 1, 2, 3 ... N,\\ for\\ N\\ companies\n",
    "$$\n",
    "\n",
    "In order to create a function *(in Python)* to calculate the units of production\n",
    "for any number of companies we:\n",
    "\n",
    "1. Create an N x N matrix, X, where every element is *B*, the slope of the inverse\n",
    "demand curve\n",
    "2. Two N x 1 arrays that are composed of the elements mentioned above,\n",
    "$$\n",
    "X:\\ \\begin{bmatrix}\n",
    "B\\ B\\ B\\ ... B\\\\\n",
    "B\\ B\\ B\\ ... B\\\\\n",
    "...\\ ...\\ ...\\\\\n",
    "B\\ B\\ B\\ ... B\\\\\n",
    "\\end{bmatrix}\\ ,\\ D:\\ \\begin{bmatrix}\n",
    "MC_{1} + 2 *B\\\\\n",
    "MC_{2} + 2 *B\\\\\n",
    "MC_{3} + 2 *B\\\\\n",
    "...\\\\\n",
    "MC_{N} + 2 *B\\\\\n",
    "\\end{bmatrix}\\ and\\ U:\\ \\begin{bmatrix}\n",
    "(A - K_{1})\\\\\n",
    "(A - K_{2})\\\\\n",
    "(A - K_{3})\\\\\n",
    "...\\\\\n",
    "(A - K_{N})\\\\\n",
    "\\end{bmatrix}\n",
    "$$\n",
    "\n",
    "3. Replace the diagonal of matrix X, with matrix D to create matrix H.\n",
    "4. Finally, if we solve $H*q = U$ for $q$, we get the production units for\n",
    "every company competing in the market."
   ],
   "cell_type": "markdown",
   "metadata": {}
  },
  {
   "source": [
    "# Simulations\n",
    "\n",
    "## Three-way game with one merger\n",
    "\n",
    "Let's start with 3 companies with the following marginal cost curves:\n",
    "\n",
    "Company 1: $MC_{1}\\ =\\ 2.71\\ +\\ 5.34*q_{1}$,\n",
    "\n",
    "Company 2: $MC_{2}\\ =\\ 6.13\\ +\\ 1.11*q_{2}$,\n",
    "\n",
    "Company 3: $MC_{3}\\ =\\ 4.75\\ +\\ 1.53*q_{3}$\n",
    "\n",
    "With an inverse demand curve : $P = 2221.08 - 15.81*Q$\n"
   ],
   "cell_type": "markdown",
   "metadata": {}
  },
  {
   "cell_type": "code",
   "execution_count": 1,
   "metadata": {},
   "outputs": [
    {
     "output_type": "stream",
     "name": "stdout",
     "text": [
      "Company 1 with Mc = 2.71 + 5.34 * q\n\tProduces 29.25 units  with €13529.37 profit.\n\nCompany 2 with Mc = 6.13 + 1.11 * q\n\tProduces 36.36 units  with €20906.58 profit.\n\nCompany 3 with Mc = 4.75 + 1.53 * q\n\tProduces 35.56 units  with €19995.47 profit.\n\nTotal production is 101.18 units @ €621.41.\nHHI:3363\n"
     ]
    }
   ],
   "source": [
    "from cournot import *\n",
    "D = (2221.08, 15.81)\n",
    "companies: CompanyList = [Company(2.71, 5.34),\n",
    "                          Company(6.13, 1.11),\n",
    "                          Company(4.75, 1.53)]\n",
    "\n",
    "companies = set_cournot_production(D, companies)\n",
    "quantity = sum([comp.production for comp in companies])\n",
    "price = calculate_price(quantity, D)\n",
    "\n",
    "market_stats_dump(companies, quantity, price)\n",
    "print(f\"HHI:{hhi(companies)}\")\n"
   ]
  },
  {
   "cell_type": "code",
   "execution_count": 2,
   "metadata": {},
   "outputs": [
    {
     "output_type": "stream",
     "name": "stdout",
     "text": [
      "The sum of the profits of companies 1 and 2\n \t before the merger were: €34435.96\n\nCompany 1&2 with Mc = 5.54 + 0.92 * q\n\tProduces 46.34 units  with €33954.67 profit.\n\nCompany 3 with Mc = 4.75 + 1.53 * q\n\tProduces 44.76 units  with €31668.42 profit.\n\nTotal production is 101.18 units @ €780.81.\nHHI:5002\nThe new price is 26.0% higher.\n\n************************************************************\n\nThe sum of the profits of companies 1 and 3\n \t before the merger were: €38063.87\n\nCompany 1&3 with Mc = 4.3 + 1.19 * q\n\tProduces 45.56 units  with €32817.94 profit.\n\nCompany 2 with Mc = 6.13 + 1.11 * q\n\tProduces 45.67 units  with €32969.39 profit.\n\nTotal production is 101.18 units @ €778.79.\nHHI:5000\nThe new price is 25.0% higher.\n\n************************************************************\n\nThe sum of the profits of companies 2 and 3\n \t before the merger were: €50317.11\n\nCompany 2&3 with Mc = 5.55 + 0.64 * q\n\tProduces 49.67 units  with €39004.7 profit.\n\nCompany 1 with Mc = 2.71 + 5.34 * q\n\tProduces 38.77 units  with €23769.22 profit.\n\nTotal production is 101.18 units @ €822.78.\nHHI:5076\nThe new price is 32.0% higher.\n\n************************************************************\n\n"
     ]
    }
   ],
   "source": [
    "for combination in [(0, 1), (0, 2), (1, 2)]:\n",
    "    #print((\"*\" * 60 + \"\\n\"))\n",
    "    post_merge = merge_two(D, companies, combination)\n",
    "    new_quantity = sum([comp.production for comp in post_merge])\n",
    "    new_price = calculate_price(new_quantity, D)\n",
    "\n",
    "    old_profits=sum([companies[combination[0]].profits(price),\n",
    "                     companies[combination[1]].profits(price)])\n",
    "    \n",
    "    print(f\"The sum of the profits of companies {companies[combination[0]].name}\",\n",
    "          f\"and {companies[combination[1]].name}\\n \\t before the merger were:\",\n",
    "          f\"€{round(old_profits,2)}\\n\")\n",
    "    market_stats_dump(post_merge, quantity, new_price)\n",
    "    print(f\"HHI:{hhi(post_merge)}\")\n",
    "    print(f\"The new price is {round(((new_price-price)*100)/price)}% higher.\")\n",
    "    print((\"\\n\" + \"*\" * 60 + \"\\n\"))"
   ]
  },
  {
   "source": [
    "## Merger Paradox\n",
    "&nbsp;&nbsp;&nbsp;&nbsp; As we simulate the mergers of two companies, by adding their $q_{(mc)}$ horizontally,\n",
    "we can observe that the resulting companies produce fewer units. The competing companies\n",
    "are now fewer, thus the HHI index increases after the merger. The new equilibrium is\n",
    "closer to the equilibrium of a monopoly. However, the profits of the newly created\n",
    "company are less than the sum of the profits of the companies that merged. None of the above mergers are profitable, and the companies would rather compete than merge.\n",
    "\n",
    "&nbsp;&nbsp;&nbsp;&nbsp; The company that benefits from the merger is the one that did not take part in it.\n",
    "This happens because both its market share, and the market price, increase.\n",
    "\n",
    "&nbsp;&nbsp;&nbsp;&nbsp; The conclusion is that neither the consumers, nor the companies that took part in the\n",
    "merger, benefit from the merger. The only beneficiary is the company that did not take part in the merger."
   ],
   "cell_type": "markdown",
   "metadata": {}
  },
  {
   "source": [
    "## Consecutive mergers with 7 companies\n",
    "\n",
    "&nbsp;&nbsp;&nbsp;&nbsp; Now, lets simulate a market comprized of more comprised, given that we are able to add as many companies as we want in the simulation."
   ],
   "cell_type": "markdown",
   "metadata": {}
  },
  {
   "cell_type": "code",
   "execution_count": 3,
   "metadata": {},
   "outputs": [
    {
     "output_type": "stream",
     "name": "stdout",
     "text": [
      "Company 1 with Mc = 2.71 + 5.34 * q\n\tProduces 14.85 units  with €3484.77 profit.\n\nCompany 2 with Mc = 6.13 + 1.11 * q\n\tProduces 18.36 units  with €5326.99 profit.\n\nCompany 3 with Mc = 4.75 + 1.53 * q\n\tProduces 17.99 units  with €5117.23 profit.\n\nCompany 4 with Mc = 1.0 + 3.4 * q\n\tProduces 16.43 units  with €4270.29 profit.\n\nCompany 5 with Mc = 4.0 + 2.0 * q\n\tProduces 17.56 units  with €4874.07 profit.\n\nCompany 6 with Mc = 5.0 + 1.6 * q\n\tProduces 17.9 units  with €5068.04 profit.\n\nCompany 7 with Mc = 4.0 + 2.2 * q\n\tProduces 17.36 units  with €4766.41 profit.\n\nTotal production is 120.45 units @ €316.71.\nHHI:1435\n"
     ]
    }
   ],
   "source": [
    "reset_names()\n",
    "D = (2221.08, 15.81)\n",
    "C: CompanyList = [Company(2.71, 5.34),\n",
    "                  Company(6.13, 1.11),\n",
    "                  Company(4.75, 1.53),\n",
    "                  Company(1, 3.4),\n",
    "                  Company(4, 2),\n",
    "                  Company(5, 1.6),\n",
    "                  Company(4, 2.2)]\n",
    "companies = set_cournot_production(D, C)\n",
    "\n",
    "quantity = sum([comp.production for comp in companies])\n",
    "price = calculate_price(quantity, D)\n",
    "\n",
    "market_stats_dump(companies, quantity, price)\n",
    "print(f\"HHI:{hhi(companies)}\")"
   ]
  },
  {
   "cell_type": "code",
   "execution_count": 4,
   "metadata": {},
   "outputs": [
    {
     "output_type": "stream",
     "name": "stdout",
     "text": [
      "The sum of the profits of companies 1 and 2\n \tbefore the merger, were: €8811.76\n\nCompany 1&2 with Mc = 5.54 + 0.92 * q\n\tProduces 20.77 units  with €6822.04 profit.\n\nCompany 3 with Mc = 4.75 + 1.53 * q\n\tProduces 20.09 units  with €6378.68 profit.\n\nCompany 4 with Mc = 1.0 + 3.4 * q\n\tProduces 18.33 units  with €5309.77 profit.\n\nCompany 5 with Mc = 4.0 + 2.0 * q\n\tProduces 19.6 units  with €6072.53 profit.\n\nCompany 6 with Mc = 5.0 + 1.6 * q\n\tProduces 19.99 units  with €6318.41 profit.\n\nCompany 7 with Mc = 4.0 + 2.2 * q\n\tProduces 19.38 units  with €5938.4 profit.\n\nTotal production is 118.16 units @ €353.05.\nHHI:1669\nThe new price is 11.0% higher.\n\n************************************************************\n\n"
     ]
    }
   ],
   "source": [
    "new_price, post_merge = consecutive_merger(price,companies,(0, 1),D)"
   ]
  },
  {
   "cell_type": "code",
   "execution_count": 5,
   "metadata": {},
   "outputs": [
    {
     "output_type": "stream",
     "name": "stdout",
     "text": [
      "The sum of the profits of companies 1&2 and 3\n \tbefore the merger, were: €13200.72\n\nCompany 1&2&3 with Mc = 5.24 + 0.57 * q\n\tProduces 24.7 units  with €9642.67 profit.\n\nCompany 4 with Mc = 1.0 + 3.4 * q\n\tProduces 21.28 units  with €7162.31 profit.\n\nCompany 5 with Mc = 4.0 + 2.0 * q\n\tProduces 22.79 units  with €8210.76 profit.\n\nCompany 6 with Mc = 5.0 + 1.6 * q\n\tProduces 23.26 units  with €8550.1 profit.\n\nCompany 7 with Mc = 4.0 + 2.2 * q\n\tProduces 22.54 units  with €8029.42 profit.\n\nTotal production is 114.56 units @ €409.87.\nHHI:2005\nThe new price is 16.0% higher.\n\n************************************************************\n\n"
     ]
    }
   ],
   "source": [
    "new_price, post_merge = consecutive_merger(new_price,post_merge,(0, 1),D)"
   ]
  },
  {
   "cell_type": "code",
   "execution_count": 6,
   "metadata": {},
   "outputs": [
    {
     "output_type": "stream",
     "name": "stdout",
     "text": [
      "The sum of the profits of companies 1&2&3 and 4\n \tbefore the merger, were: €16804.98\n\nCompany 1&2&3&4 with Mc = 4.63 + 0.49 * q\n\tProduces 29.27 units  with €13545.94 profit.\n\nCompany 5 with Mc = 4.0 + 2.0 * q\n\tProduces 26.83 units  with €11378.06 profit.\n\nCompany 6 with Mc = 5.0 + 1.6 * q\n\tProduces 27.39 units  with €11857.11 profit.\n\nCompany 7 with Mc = 4.0 + 2.2 * q\n\tProduces 26.53 units  with €11126.76 profit.\n\nTotal production is 110.01 units @ €481.78.\nHHI:2504\nThe new price is 18.0% higher.\n\n************************************************************\n\n"
     ]
    }
   ],
   "source": [
    "new_price, post_merge = consecutive_merger(new_price,post_merge,(0, 1),D)"
   ]
  },
  {
   "cell_type": "code",
   "execution_count": 7,
   "metadata": {},
   "outputs": [
    {
     "output_type": "stream",
     "name": "stdout",
     "text": [
      "The sum of the profits of companies 1&2&3&4 and 5\n \tbefore the merger, were: €24924.01\n\nCompany 1&2&3&4&5 with Mc = 4.51 + 0.39 * q\n\tProduces 36.36 units  with €20906.78 profit.\n\nCompany 6 with Mc = 5.0 + 1.6 * q\n\tProduces 33.82 units  with €18081.11 profit.\n\nCompany 7 with Mc = 4.0 + 2.2 * q\n\tProduces 32.75 units  with €16953.88 profit.\n\nTotal production is 102.93 units @ €593.77.\nHHI:3340\nThe new price is 23.0% higher.\n\n************************************************************\n\n"
     ]
    }
   ],
   "source": [
    "new_price, post_merge = consecutive_merger(new_price,post_merge,(0, 1),D)"
   ]
  },
  {
   "cell_type": "code",
   "execution_count": 8,
   "metadata": {},
   "outputs": [
    {
     "output_type": "stream",
     "name": "stdout",
     "text": [
      "The sum of the profits of companies 1&2&3&4&5 and 6\n \tbefore the merger, were: €38987.89\n\nCompany 1&2&3&4&5&6 with Mc = 4.6 + 0.32 * q\n\tProduces 48.08 units  with €36541.23 profit.\n\nCompany 7 with Mc = 4.0 + 2.2 * q\n\tProduces 43.08 units  with €29343.08 profit.\n\nTotal production is 91.16 units @ €779.89.\nHHI:5015\nThe new price is 31.0% higher.\n\n************************************************************\n\n"
     ]
    }
   ],
   "source": [
    "new_price, post_merge = consecutive_merger(new_price,post_merge,(0, 1),D)"
   ]
  },
  {
   "source": [
    "### Table of total profits\n",
    "\n",
    "| Companies | Not merged | Merged|\n",
    "|-----|:-----:|:-----:|\n",
    "|1, 2|€8811.76 | €6822.04|\n",
    "|1, 2, 3|€13928.99 | €9642.67|\n",
    "|1, 2, 3, 4|€18199.28 | €13545.94|\n",
    "|1, 2, ..., 5|€23073.35 | €20906.78|\n",
    "|1, 2, ..., 6|€28141.39 | €36541.23|\n",
    "\n",
    "&nbsp;&nbsp;&nbsp;&nbsp; Only after 5 consecutive mergers did we see an increase in the profitability of the new company,\n",
    "compared to the pre-merge conditions.\n",
    "The new company, named \"`1&2&3&4&5&6`\" in the above code-block, has\n",
    "a €36541.23 profit. The above mentioned event is mainly attributable to the significant decline of competition.\n",
    "The HHI index is now three times higher than before.\n",
    "The price is more than two times higher, and the production is 25% lower.\n",
    "\n",
    "&nbsp;&nbsp;&nbsp;&nbsp; Furthermore, the mergers that include less than 6 companiesare not profitable,\n",
    "hence the companies would rather compete than merge.\n",
    "\n",
    "&nbsp;&nbsp;&nbsp;&nbsp; In a real market however, a merger like that would create a huge dead weight loss\n",
    "and such a price increase, that no committee would ever allow such a merger to take place.\n"
   ],
   "cell_type": "markdown",
   "metadata": {}
  },
  {
   "source": [
    "## Non symmetrical costs"
   ],
   "cell_type": "markdown",
   "metadata": {}
  },
  {
   "cell_type": "code",
   "execution_count": 9,
   "metadata": {},
   "outputs": [
    {
     "output_type": "stream",
     "name": "stdout",
     "text": [
      "Company 1 with Mc = 26.71 + 8.34 * q\n\tProduces 26.08 units  with €10755.49 profit.\n\nCompany 2 with Mc = 4.0 + 2.0 * q\n\tProduces 36.64 units  with €21227.61 profit.\n\nCompany 3 with Mc = 4.1 + 2.2 * q\n\tProduces 36.23 units  with €20752.41 profit.\n\nTotal production is 98.95 units @ €656.6.\nHHI:3406\n"
     ]
    }
   ],
   "source": [
    "reset_names()\n",
    "D = (2221.08, 15.81)\n",
    "C: CompanyList = [Company(26.71, 8.34),\n",
    "                  Company(4, 2),\n",
    "                  Company(4.1, 2.2)]\n",
    "companies = set_cournot_production(D, C)\n",
    "quantity = sum([comp.production for comp in companies])\n",
    "price = calculate_price(quantity, D)\n",
    "\n",
    "market_stats_dump(companies, quantity, price)\n",
    "print(f\"HHI:{hhi(companies)}\")"
   ]
  },
  {
   "cell_type": "code",
   "execution_count": 10,
   "metadata": {},
   "outputs": [
    {
     "output_type": "stream",
     "name": "stdout",
     "text": [
      "The sum of the profits of companies 1 and 2\n \t before the merger were: €31983.1\n\nCompany 1&2 with Mc = 8.39 + 1.61 * q\n\tProduces 45.52 units  with €32757.21 profit.\n\nCompany 3 with Mc = 4.1 + 2.2 * q\n\tProduces 44.27 units  with €30990.0 profit.\n\nTotal production is 98.95 units @ €801.47.\nHHI:5001\nThe new price is 22.0% higher.\n\n************************************************************\n\nThe sum of the profits of companies 1 and 3\n \t before the merger were: €35331.78\n\nCompany 1&3 with Mc = 8.82 + 1.74 * q\n\tProduces 45.12 units  with €32179.76 profit.\n\nCompany 2 with Mc = 4.0 + 2.0 * q\n\tProduces 44.73 units  with €31631.46 profit.\n\nTotal production is 98.95 units @ €800.63.\nHHI:5000\nThe new price is 22.0% higher.\n\n************************************************************\n\nThe sum of the profits of companies 2 and 3\n \t before the merger were: €49765.39\n\nCompany 2&3 with Mc = 4.05 + 1.05 * q\n\tProduces 51.07 units  with €41232.02 profit.\n\nCompany 1 with Mc = 26.71 + 8.34 * q\n\tProduces 34.71 units  with €19046.77 profit.\n\nTotal production is 98.95 units @ €864.94.\nHHI:5182\nThe new price is 32.0% higher.\n\n************************************************************\n\n"
     ]
    }
   ],
   "source": [
    "for combination in [(0, 1), (0, 2), (1, 2)]:\n",
    "    post_merge = merge_two(D, companies, combination)\n",
    "    new_quantity = sum([comp.production for comp in post_merge])\n",
    "    new_price = calculate_price(new_quantity, D)\n",
    "\n",
    "    i, j = combination[0], combination[1]\n",
    "    old_profits=sum([companies[i].profits(price),\n",
    "                     companies[j].profits(price)])\n",
    "    \n",
    "    print(f\"The sum of the profits of companies {companies[i].name}\",\n",
    "          f\"and {companies[j].name}\\n \\t before the merger were:\",\n",
    "          f\"€{round(old_profits,2)}\\n\")\n",
    "    market_stats_dump(post_merge, quantity, new_price)\n",
    "    print(f\"HHI:{hhi(post_merge)}\")\n",
    "    print(f\"The new price is {round(((new_price-price)*100)/price)}% higher.\")\n",
    "    print((\"\\n\" + \"*\" * 60 + \"\\n\"))"
   ]
  },
  {
   "source": [
    "&nbsp;&nbsp;&nbsp;&nbsp; If companies 1 and 2 merge, the merger is profitable. However, the constant part of $MC_{1\\&2}$ is almost double than that of $MC_{2}$, so we have to make sure that the merged company is actually producing only in the facilities of company 2. So we use $MC_{2}=MC_{1\\&2}$"
   ],
   "cell_type": "markdown",
   "metadata": {}
  },
  {
   "cell_type": "code",
   "execution_count": 11,
   "metadata": {},
   "outputs": [
    {
     "output_type": "stream",
     "name": "stdout",
     "text": [
      "Company 2 with Mc = 4.0 + 2.0 * q\n\tProduces 45.01 units  with €32036.01 profit.\n\nCompany 3 with Mc = 4.1 + 2.2 * q\n\tProduces 44.51 units  with €31320.63 profit.\n\nTotal production is 89.52 units @ €805.71.\nHHI:5000\n"
     ]
    }
   ],
   "source": [
    "reset_names()\n",
    "D = (2221.08, 15.81)\n",
    "C: CompanyList = [Company(4, 2, '2'),\n",
    "                  Company(4.1, 2.2, '3')]\n",
    "companies = set_cournot_production(D, C)\n",
    "quantity = sum([comp.production for comp in companies])\n",
    "price = calculate_price(quantity, D)\n",
    "\n",
    "market_stats_dump(companies, quantity, price)\n",
    "print(f\"HHI:{hhi(companies)}\")"
   ]
  },
  {
   "source": [
    "&nbsp;&nbsp;&nbsp;&nbsp; Company \"1&2\" produces in both facilities, because the profits are now lower than before.\n",
    "\n",
    "&nbsp;&nbsp;&nbsp;&nbsp; The reason that Company 1 and Company 2's merger is profitable, is due to the asymmetry of the marginal costs. The price increased by 22%, and the third company is almost 50% more profitable. The total production is exactly the same. All in all, the merger is probably going to be prevented by the competition committee."
   ],
   "cell_type": "markdown",
   "metadata": {}
  }
 ]
}